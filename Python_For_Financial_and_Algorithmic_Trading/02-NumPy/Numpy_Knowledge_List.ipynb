{
 "cells": [
  {
   "cell_type": "code",
   "execution_count": 29,
   "metadata": {},
   "outputs": [
    {
     "name": "stdout",
     "output_type": "stream",
     "text": [
      "[1 3 4 5] <class 'numpy.ndarray'>\n",
      "[1 2 3 4 5 6 7 8 9] <class 'numpy.ndarray'>\n",
      "[1 3 5 7 9] <class 'numpy.ndarray'>\n",
      "[ 0.  0.  0.] <class 'numpy.float64'>\n",
      "\n",
      "[[0 0 0 0 0]\n",
      " [0 0 0 0 0]\n",
      " [0 0 0 0 0]]\n",
      "[[ 1.  1.  1.  1.  1.]\n",
      " [ 1.  1.  1.  1.  1.]\n",
      " [ 1.  1.  1.  1.  1.]\n",
      " [ 1.  1.  1.  1.  1.]]\n",
      "[  0.  10.] <class 'numpy.ndarray'>\n"
     ]
    }
   ],
   "source": [
    "import numpy as np\n",
    "x = np.array([1,3,4,5])\n",
    "print(x, type(x))\n",
    "\n",
    "y = np.arange(1, 10)\n",
    "print(y, type(y), end=\"\\n\")\n",
    "\n",
    "z = np.arange(1, 11, 2)\n",
    "print(z, type(z))\n",
    "\n",
    "# create one dimension zero matrix\n",
    "a = np.zeros(3)\n",
    "print(a, type(a[0]), end=\"\\n\\n\")\n",
    "\n",
    "\"\"\"\"\n",
    "create n dimensions zero matrix\n",
    "\n",
    "(first argument: row number\n",
    "second argument: column number)\n",
    "\n",
    "Second Argument: define element type\n",
    "\"\"\"\n",
    "b = np.zeros((3, 5), int)\n",
    "print(b)\n",
    "\n",
    "\"\"\"\n",
    "Create one matrix\n",
    "\"\"\"\n",
    "c = np.ones((4,5))\n",
    "print(c)\n",
    "\n",
    "\n",
    "\"\"\"\n",
    "Linear Space\n",
    "\"\"\"\n",
    "d = np.linspace(0, 10, 2)\n",
    "print(d, type(d))"
   ]
  },
  {
   "cell_type": "code",
   "execution_count": 44,
   "metadata": {},
   "outputs": [
    {
     "name": "stdout",
     "output_type": "stream",
     "text": [
      "[  0.   2.   4.   6.   8.  10.] <class 'numpy.ndarray'>\n",
      "\n",
      "[  0.    0.2   0.4   0.6   0.8   1.    1.2   1.4   1.6   1.8   2.    2.2\n",
      "   2.4   2.6   2.8   3.    3.2   3.4   3.6   3.8   4.    4.2   4.4   4.6\n",
      "   4.8   5.    5.2   5.4   5.6   5.8   6.    6.2   6.4   6.6   6.8   7.\n",
      "   7.2   7.4   7.6   7.8   8.    8.2   8.4   8.6   8.8   9.    9.2   9.4\n",
      "   9.6   9.8  10. ] <class 'numpy.ndarray'>\n"
     ]
    }
   ],
   "source": [
    "\"\"\"\n",
    "Linear Space\n",
    "\"\"\"\n",
    "d = np.linspace(0, 10, 6)\n",
    "print(d, type(d), end=\"\\n\\n\")\n",
    "\n",
    "e = np.linspace(0, 10, 51)\n",
    "print(e, type(e))"
   ]
  },
  {
   "cell_type": "code",
   "execution_count": 50,
   "metadata": {},
   "outputs": [
    {
     "data": {
      "text/plain": [
       "array([[ 1.,  0.,  0.,  0.,  0.],\n",
       "       [ 0.,  1.,  0.,  0.,  0.],\n",
       "       [ 0.,  0.,  1.,  0.,  0.],\n",
       "       [ 0.,  0.,  0.,  1.,  0.],\n",
       "       [ 0.,  0.,  0.,  0.,  1.]])"
      ]
     },
     "execution_count": 50,
     "metadata": {},
     "output_type": "execute_result"
    }
   ],
   "source": [
    "# Create Square Matrix- Identity Matrix\n",
    "f = np.eye(5)\n",
    "f"
   ]
  },
  {
   "cell_type": "code",
   "execution_count": 55,
   "metadata": {},
   "outputs": [
    {
     "name": "stdout",
     "output_type": "stream",
     "text": [
      "[ 0.9286663] <class 'numpy.ndarray'>\n",
      "[[ 0.83896908  0.31970087  0.7374929   0.58846903  0.83707323]\n",
      " [ 0.36780324  0.05535425  0.34725955  0.59998186  0.45525366]\n",
      " [ 0.2791091   0.11437377  0.94101157  0.10670065  0.48036063]\n",
      " [ 0.30325359  0.46651765  0.78433194  0.73289278  0.62000843]\n",
      " [ 0.95148827  0.59706643  0.3964598   0.44799558  0.10585323]] <class 'numpy.ndarray'>\n",
      "[ 1.15571794  0.46297031 -0.61455675 -1.57259562  0.35582543]\n",
      "\n",
      "[[-1.27729057  0.46629182 -1.3509194   1.70757507  0.57708072]\n",
      " [ 0.07746833  0.83894576  0.68873918 -0.66993867  0.32722663]\n",
      " [ 0.86269146  0.56643536 -0.80837036  0.77224961  1.24534125]\n",
      " [-0.62800048  0.14199658  0.31847964 -1.74032759 -0.00430794]\n",
      " [ 1.12192024 -1.86072947  0.51033885 -0.71746488  0.14743695]]\n"
     ]
    }
   ],
   "source": [
    "# CAREATE RANDOM SERIES\n",
    "\n",
    "# [0, 1], uniform distribution to selection\n",
    "g = np.random.rand(1)\n",
    "print(g, type(g))\n",
    "\n",
    "h = np.random.rand(5, 5)\n",
    "print(h, type(h))\n",
    "\n",
    "\n",
    "# Standard normal distribution\n",
    "i = np.random.randn(5)\n",
    "print(i, end=\"\\n\\n\")\n",
    "\n",
    "j = np.random.randn(5, 5)\n",
    "print(j)"
   ]
  },
  {
   "cell_type": "code",
   "execution_count": 61,
   "metadata": {},
   "outputs": [
    {
     "name": "stdout",
     "output_type": "stream",
     "text": [
      "91\n",
      "\n",
      " [38  8 47 57 63 10 76  4  8  9]\n"
     ]
    }
   ],
   "source": [
    "# random integer\n",
    "# randint(lower, higher)\n",
    "aa = np.random.randint(1, 200)\n",
    "print(aa)\n",
    "\n",
    "#Spicify a list\n",
    "bb = np.random.randint(1, 100, 10)\n",
    "print(\"\\n\", bb)"
   ]
  },
  {
   "cell_type": "code",
   "execution_count": 75,
   "metadata": {},
   "outputs": [
    {
     "name": "stdout",
     "output_type": "stream",
     "text": [
      "[ 0  1  2  3  4  5  6  7  8  9 10 11 12 13 14 15 16 17 18 19 20 21 22 23]\n",
      "\n",
      " [ 7 27 19 25 17 38 10 27 39  2]\n",
      "\n",
      " [[ 0  1  2  3  4  5]\n",
      " [ 6  7  8  9 10 11]\n",
      " [12 13 14 15 16 17]\n",
      " [18 19 20 21 22 23]]\n",
      "(10,)\n",
      "(4, 6)\n",
      "\n",
      " [[ 0]\n",
      " [ 1]\n",
      " [ 2]\n",
      " [ 3]\n",
      " [ 4]\n",
      " [ 5]\n",
      " [ 6]\n",
      " [ 7]\n",
      " [ 8]\n",
      " [ 9]\n",
      " [10]\n",
      " [11]\n",
      " [12]\n",
      " [13]\n",
      " [14]\n",
      " [15]\n",
      " [16]\n",
      " [17]\n",
      " [18]\n",
      " [19]\n",
      " [20]\n",
      " [21]\n",
      " [22]\n",
      " [23]]\n",
      "(24, 1)\n",
      "int64\n"
     ]
    }
   ],
   "source": [
    "# Array Comparation\n",
    "arr = np.arange(24)\n",
    "ranarr = np.random.randint(0, 50, 10)\n",
    "\n",
    "print(arr)\n",
    "print(\"\\n\", ranarr)\n",
    "\n",
    "arr = arr.reshape(4,6)\n",
    "print(\"\\n\", arr)\n",
    "\n",
    "# shape\n",
    "print(ranarr.shape)\n",
    "print(arr.shape)\n",
    "\n",
    "# Reshape\n",
    "arr = arr.reshape(24, 1)\n",
    "print(\"\\n\", arr.reshape(24, 1))\n",
    "print(arr.shape)\n",
    "\n",
    "# grab data type\n",
    "print(arr.dtype)"
   ]
  },
  {
   "cell_type": "code",
   "execution_count": 78,
   "metadata": {},
   "outputs": [
    {
     "name": "stdout",
     "output_type": "stream",
     "text": [
      "23\n",
      "2\n",
      "21.1\n"
     ]
    }
   ],
   "source": [
    "# get max, min\n",
    "print(arr.max())\n",
    "print(ranarr.min())\n",
    "print(ranarr.mean())"
   ]
  },
  {
   "cell_type": "code",
   "execution_count": 80,
   "metadata": {},
   "outputs": [
    {
     "name": "stdout",
     "output_type": "stream",
     "text": [
      "8\n",
      "9\n"
     ]
    }
   ],
   "source": [
    "# get the index of minimum value and maximum value\n",
    "print(ranarr.argmax())\n",
    "print(ranarr.argmin())"
   ]
  },
  {
   "cell_type": "code",
   "execution_count": 109,
   "metadata": {},
   "outputs": [
    {
     "name": "stdout",
     "output_type": "stream",
     "text": [
      "Addition:  [ 0  2  4  6  8 10 12 14 16 18] <class 'numpy.ndarray'>\n",
      "Substration:  [0 0 0 0 0 0 0 0 0 0]\n",
      "Multiplication:  [ 0  1  4  9 16 25 36 49 64 81]\n",
      "Division:  [ 1.  1.  1.  1.  1.  1.  1.  1.  1.]\n",
      "1/array:  [        inf  1.          0.5         0.33333333  0.25        0.2\n",
      "  0.16666667  0.14285714  0.125       0.11111111]\n",
      "+ 100:  [100 101 102 103 104 105 106 107 108 109]\n",
      "power of 2 [ 0  1  4  9 16 25 36 49 64 81]\n"
     ]
    },
    {
     "name": "stderr",
     "output_type": "stream",
     "text": [
      "/Users/liyixuan1121/anaconda/lib/python3.6/site-packages/ipykernel_launcher.py:10: RuntimeWarning: divide by zero encountered in true_divide\n",
      "  # Remove the CWD from sys.path while we load stuff.\n"
     ]
    }
   ],
   "source": [
    "a = np.arange(10)\n",
    "\n",
    "# Additioin, substraction, times, division\n",
    "b = a + a\n",
    "print(\"Addition: \", b, type(b))\n",
    "\n",
    "print(\"Substration: \",a - a)\n",
    "print(\"Multiplication: \", a * a)\n",
    "print(\"Division: \",a[1:]/a[1:])\n",
    "print(\"1/array: \", 1/a)\n",
    "print(\"+ 100: \", a + 100)\n",
    "print(\"power of 2\", a ** 2)"
   ]
  },
  {
   "cell_type": "code",
   "execution_count": 108,
   "metadata": {},
   "outputs": [
    {
     "name": "stdout",
     "output_type": "stream",
     "text": [
      "Mulitplication:  [1, 1, 1, 1]\n",
      "Times 0:  []\n",
      "Mulitiplication:  [[1, 1, 1, 1], [1, 1, 1, 1], [1, 1, 1, 1], [1, 1, 1, 1]]\n"
     ]
    }
   ],
   "source": [
    "# List operation\n",
    "a = [1]\n",
    "print(\"Mulitplication: \", a * 4)\n",
    "print(\"Times 0: \", a * 0)\n",
    "print(\"Mulitiplication: \", [[1] * 4] * 4)"
   ]
  },
  {
   "cell_type": "code",
   "execution_count": 112,
   "metadata": {},
   "outputs": [
    {
     "name": "stdout",
     "output_type": "stream",
     "text": [
      "[  1.00000000e+00   2.71828183e+00   7.38905610e+00   2.00855369e+01\n",
      "   5.45981500e+01   1.48413159e+02   4.03428793e+02   1.09663316e+03\n",
      "   2.98095799e+03   8.10308393e+03]\n",
      "9\n",
      "[ 0.          1.          1.41421356  1.73205081  2.          2.23606798\n",
      "  2.44948974  2.64575131  2.82842712  3.        ]\n",
      "[ 0.          0.69314718  1.09861229  1.38629436  1.60943791  1.79175947\n",
      "  1.94591015  2.07944154  2.19722458]\n"
     ]
    }
   ],
   "source": [
    "# Numpy Math Operation\n",
    "print(np.exp(a))\n",
    "print(np.max(a))\n",
    "print(np.sqrt(a))\n",
    "print(np.log(a[1:]))"
   ]
  },
  {
   "cell_type": "code",
   "execution_count": null,
   "metadata": {},
   "outputs": [],
   "source": []
  },
  {
   "cell_type": "code",
   "execution_count": null,
   "metadata": {},
   "outputs": [],
   "source": []
  },
  {
   "cell_type": "code",
   "execution_count": null,
   "metadata": {},
   "outputs": [],
   "source": []
  },
  {
   "cell_type": "code",
   "execution_count": null,
   "metadata": {},
   "outputs": [],
   "source": []
  },
  {
   "cell_type": "code",
   "execution_count": null,
   "metadata": {},
   "outputs": [],
   "source": []
  },
  {
   "cell_type": "code",
   "execution_count": null,
   "metadata": {},
   "outputs": [],
   "source": []
  },
  {
   "cell_type": "code",
   "execution_count": null,
   "metadata": {},
   "outputs": [],
   "source": []
  },
  {
   "cell_type": "code",
   "execution_count": null,
   "metadata": {},
   "outputs": [],
   "source": []
  },
  {
   "cell_type": "code",
   "execution_count": null,
   "metadata": {},
   "outputs": [],
   "source": []
  }
 ],
 "metadata": {
  "kernelspec": {
   "display_name": "Python 3",
   "language": "python",
   "name": "python3"
  },
  "language_info": {
   "codemirror_mode": {
    "name": "ipython",
    "version": 3
   },
   "file_extension": ".py",
   "mimetype": "text/x-python",
   "name": "python",
   "nbconvert_exporter": "python",
   "pygments_lexer": "ipython3",
   "version": "3.6.3"
  }
 },
 "nbformat": 4,
 "nbformat_minor": 2
}

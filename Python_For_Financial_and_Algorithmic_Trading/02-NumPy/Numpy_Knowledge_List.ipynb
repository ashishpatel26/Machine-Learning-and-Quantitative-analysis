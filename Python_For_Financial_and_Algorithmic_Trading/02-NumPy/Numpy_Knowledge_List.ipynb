{
 "cells": [
  {
   "cell_type": "code",
   "execution_count": 29,
   "metadata": {},
   "outputs": [
    {
     "name": "stdout",
     "output_type": "stream",
     "text": [
      "[1 3 4 5] <class 'numpy.ndarray'>\n",
      "[1 2 3 4 5 6 7 8 9] <class 'numpy.ndarray'>\n",
      "[1 3 5 7 9] <class 'numpy.ndarray'>\n",
      "[ 0.  0.  0.] <class 'numpy.float64'>\n",
      "\n",
      "[[0 0 0 0 0]\n",
      " [0 0 0 0 0]\n",
      " [0 0 0 0 0]]\n",
      "[[ 1.  1.  1.  1.  1.]\n",
      " [ 1.  1.  1.  1.  1.]\n",
      " [ 1.  1.  1.  1.  1.]\n",
      " [ 1.  1.  1.  1.  1.]]\n",
      "[  0.  10.] <class 'numpy.ndarray'>\n"
     ]
    }
   ],
   "source": [
    "import numpy as np\n",
    "x = np.array([1,3,4,5])\n",
    "print(x, type(x))\n",
    "\n",
    "y = np.arange(1, 10)\n",
    "print(y, type(y), end=\"\\n\")\n",
    "\n",
    "z = np.arange(1, 11, 2)\n",
    "print(z, type(z))\n",
    "\n",
    "# create one dimension zero matrix\n",
    "a = np.zeros(3)\n",
    "print(a, type(a[0]), end=\"\\n\\n\")\n",
    "\n",
    "\"\"\"\"\n",
    "create n dimensions zero matrix\n",
    "\n",
    "(first argument: row number\n",
    "second argument: column number)\n",
    "\n",
    "Second Argument: define element type\n",
    "\"\"\"\n",
    "b = np.zeros((3, 5), int)\n",
    "print(b)\n",
    "\n",
    "\"\"\"\n",
    "Create one matrix\n",
    "\"\"\"\n",
    "c = np.ones((4,5))\n",
    "print(c)\n",
    "\n",
    "\n",
    "\"\"\"\n",
    "Linear Space\n",
    "\"\"\"\n",
    "d = np.linspace(0, 10, 2)\n",
    "print(d, type(d))"
   ]
  },
  {
   "cell_type": "code",
   "execution_count": 44,
   "metadata": {},
   "outputs": [
    {
     "name": "stdout",
     "output_type": "stream",
     "text": [
      "[  0.   2.   4.   6.   8.  10.] <class 'numpy.ndarray'>\n",
      "\n",
      "[  0.    0.2   0.4   0.6   0.8   1.    1.2   1.4   1.6   1.8   2.    2.2\n",
      "   2.4   2.6   2.8   3.    3.2   3.4   3.6   3.8   4.    4.2   4.4   4.6\n",
      "   4.8   5.    5.2   5.4   5.6   5.8   6.    6.2   6.4   6.6   6.8   7.\n",
      "   7.2   7.4   7.6   7.8   8.    8.2   8.4   8.6   8.8   9.    9.2   9.4\n",
      "   9.6   9.8  10. ] <class 'numpy.ndarray'>\n"
     ]
    }
   ],
   "source": [
    "\"\"\"\n",
    "Linear Space\n",
    "\"\"\"\n",
    "d = np.linspace(0, 10, 6)\n",
    "print(d, type(d), end=\"\\n\\n\")\n",
    "\n",
    "e = np.linspace(0, 10, 51)\n",
    "print(e, type(e))"
   ]
  },
  {
   "cell_type": "code",
   "execution_count": null,
   "metadata": {},
   "outputs": [],
   "source": []
  },
  {
   "cell_type": "code",
   "execution_count": null,
   "metadata": {},
   "outputs": [],
   "source": []
  },
  {
   "cell_type": "code",
   "execution_count": null,
   "metadata": {},
   "outputs": [],
   "source": []
  },
  {
   "cell_type": "code",
   "execution_count": null,
   "metadata": {},
   "outputs": [],
   "source": []
  },
  {
   "cell_type": "code",
   "execution_count": null,
   "metadata": {},
   "outputs": [],
   "source": []
  },
  {
   "cell_type": "code",
   "execution_count": null,
   "metadata": {},
   "outputs": [],
   "source": []
  },
  {
   "cell_type": "code",
   "execution_count": null,
   "metadata": {},
   "outputs": [],
   "source": []
  },
  {
   "cell_type": "code",
   "execution_count": null,
   "metadata": {},
   "outputs": [],
   "source": []
  },
  {
   "cell_type": "code",
   "execution_count": null,
   "metadata": {},
   "outputs": [],
   "source": []
  }
 ],
 "metadata": {
  "kernelspec": {
   "display_name": "Python 3",
   "language": "python",
   "name": "python3"
  },
  "language_info": {
   "codemirror_mode": {
    "name": "ipython",
    "version": 3
   },
   "file_extension": ".py",
   "mimetype": "text/x-python",
   "name": "python",
   "nbconvert_exporter": "python",
   "pygments_lexer": "ipython3",
   "version": "3.6.3"
  }
 },
 "nbformat": 4,
 "nbformat_minor": 2
}
